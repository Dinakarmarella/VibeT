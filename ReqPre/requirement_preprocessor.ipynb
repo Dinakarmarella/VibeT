{
 "cells": [
  {
   "cell_type": "code",
   "execution_count": null,
   "id": "d4e5b1c9",
   "metadata": {},
   "outputs": [],
   "source": [
    "import pandas as pd\n",
    "import re\n",
    "from bs4 import BeautifulSoup\n",
    "import os"
   ]
  },
  {
   "cell_type": "code",
   "execution_count": null,
   "id": "cc93c8cb",
   "metadata": {},
   "outputs": [],
   "source": [
    "# Replace with your file path\n",
    "\n",
    "CWD = os.getcwd()\n",
    "RAW_CSV_PATH = os.path.join(CWD, '..',\"data\", \"raw_requirements.csv\")\n",
    "df = pd.read_csv(RAW_CSV_PATH)\n",
    "\n",
    "# Quick sanity check\n",
    "df.head(3)\n"
   ]
  },
  {
   "cell_type": "code",
   "execution_count": null,
   "id": "654e43f2",
   "metadata": {},
   "outputs": [],
   "source": [
    "def clean_issue_text(text):\n",
    "    if pd.isna(text):\n",
    "        return \"\"\n",
    "    \n",
    "    # Remove HTML tags\n",
    "    soup = BeautifulSoup(text, \"html.parser\")\n",
    "    text = soup.get_text(separator=\" \")\n",
    "\n",
    "    # Remove markdown image/links\n",
    "    text = re.sub(r'!\\[.*?\\]\\(.*?\\)', '', text)\n",
    "    text = re.sub(r'\\[.*?\\]\\(.*?\\)', '', text)\n",
    "\n",
    "    # Remove GitHub comment tags <!-- -->\n",
    "    text = re.sub(r'<!--.*?-->', '', text, flags=re.DOTALL)\n",
    "\n",
    "    # Remove file paths, links, version dumps\n",
    "    text = re.sub(r'http\\S+|www\\S+|\\S+\\.(jpg|png|md|html)', '', text)\n",
    "    text = re.sub(r'VS Code version:.*|OS version:.*', '', text)\n",
    "\n",
    "    # Remove boilerplate phrases\n",
    "    templates = [\n",
    "        r'Please read our Rules of Conduct.*',\n",
    "        r'Read our guide about submitting issues.*',\n",
    "        r'Search existing issues.*',\n",
    "        r'Test using the latest Insiders build.*',\n",
    "        r'Use \\'Report Issue\\'.*',\n",
    "        r'Launch with `code --disable-extensions`.*',\n",
    "        r'Issues caused by an extension.*',\n",
    "        r'Help: Start Extension Bisect.*'\n",
    "    ]\n",
    "    for pattern in templates:\n",
    "        text = re.sub(pattern, '', text, flags=re.IGNORECASE)\n",
    "\n",
    "    # Remove excess whitespace\n",
    "    text = re.sub(r'\\s+', ' ', text).strip()\n",
    "    \n",
    "    return text\n"
   ]
  },
  {
   "cell_type": "code",
   "execution_count": null,
   "id": "d9d77cec",
   "metadata": {},
   "outputs": [],
   "source": [
    "df['cleaned_text'] = df['raw_text'].apply(clean_issue_text)\n",
    "\n",
    "# View cleaned result\n",
    "df[['raw_text', 'cleaned_text']].head(3)\n"
   ]
  },
  {
   "cell_type": "code",
   "execution_count": null,
   "id": "0febd1f4",
   "metadata": {},
   "outputs": [],
   "source": [
    "def chunk_text(text):\n",
    "    # Break by line, bullet, or punctuation\n",
    "    lines = re.split(r'[\\n\\r]|[-*•]\\s+|(?<=[.?!])\\s+', text)\n",
    "    lines = [line.strip() for line in lines if len(line.strip()) > 20]\n",
    "    return lines\n",
    "\n",
    "# Apply and store as list of chunks\n",
    "df['chunks'] = df['cleaned_text'].apply(chunk_text)\n",
    "\n",
    "# Example\n",
    "df.iloc[0]['chunks']\n"
   ]
  },
  {
   "cell_type": "markdown",
   "id": "747a0a32",
   "metadata": {},
   "source": [
    "# Next step is optional"
   ]
  },
  {
   "cell_type": "code",
   "execution_count": null,
   "id": "ef5cd43e",
   "metadata": {},
   "outputs": [],
   "source": [
    "# Flatten a few chunks for labeling\n",
    "sample_data = df['chunks'].explode().dropna().reset_index(drop=True)\n",
    "\n",
    "# Show first 5 to copy-paste\n",
    "for i, record in enumerate(sample_data.head(5)):\n",
    "    print(f\"Sample {i+1}:\\n{record}\\n{'-'*60}\")\n"
   ]
  }
 ],
 "metadata": {
  "language_info": {
   "name": "python"
  }
 },
 "nbformat": 4,
 "nbformat_minor": 5
}
